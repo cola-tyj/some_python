{
 "cells": [
  {
   "attachments": {},
   "cell_type": "markdown",
   "metadata": {},
   "source": [
    "x = [0.1, 0.2, 0.3]\n",
    "\n",
    "y = ?\n",
    "\n",
    "y = W2(Sigmoid(W1(x)))\n",
    "\n",
    "涉及到的矩阵都是全1矩阵（w是全1矩阵）\n",
    "\n",
    "映射关系: x -> h -> y (3个x，4个h，2个y)"
   ]
  },
  {
   "cell_type": "code",
   "execution_count": 11,
   "metadata": {},
   "outputs": [
    {
     "name": "stdout",
     "output_type": "stream",
     "text": [
      "[0.1 0.2 0.3]\n",
      "[[1. 1. 1. 1.]\n",
      " [1. 1. 1. 1.]\n",
      " [1. 1. 1. 1.]]\n",
      "[2.58262522 2.58262522]\n"
     ]
    }
   ],
   "source": [
    "import numpy as np\n",
    "\n",
    "def sigmoid(x): \n",
    "    return 1/(1 + np.exp(-x))\n",
    "\n",
    "x = np.array([0.1, 0.2, 0.3])\n",
    "print(x)\n",
    "\n",
    "w1 = np.ones([3,4])\n",
    "#print(w1)\n",
    "w2 = np.ones([4,2])\n",
    "\n",
    "y = ( sigmoid(x @ w1) )@ w2\n",
    "print (y)\n",
    "\n",
    "\n",
    "\n"
   ]
  }
 ],
 "metadata": {
  "kernelspec": {
   "display_name": "myPytorch",
   "language": "python",
   "name": "python3"
  },
  "language_info": {
   "codemirror_mode": {
    "name": "ipython",
    "version": 3
   },
   "file_extension": ".py",
   "mimetype": "text/x-python",
   "name": "python",
   "nbconvert_exporter": "python",
   "pygments_lexer": "ipython3",
   "version": "3.9.7"
  },
  "orig_nbformat": 4
 },
 "nbformat": 4,
 "nbformat_minor": 2
}
